{
 "cells": [
  {
   "cell_type": "markdown",
   "metadata": {},
   "source": [
    "### PROJECT : AirBnB Seattle Reservation Prices Analysis"
   ]
  },
  {
   "cell_type": "markdown",
   "metadata": {},
   "source": [
    "***Below are the questions that we will be answering through our analysis !!***"
   ]
  },
  {
   "cell_type": "markdown",
   "metadata": {},
   "source": [
    "Can you describe the vibe of each Seattle neighborhood using listing descriptions?\n",
    "\n",
    "What are the busiest times of the year to visit Seattle? By how much do prices spike?\n",
    "\n",
    "Is there a general upward trend of both new Airbnb listings and total Airbnb visitors to Seattle?"
   ]
  },
  {
   "cell_type": "markdown",
   "metadata": {},
   "source": [
    "### Import all the libraries"
   ]
  },
  {
   "cell_type": "code",
   "execution_count": 46,
   "metadata": {},
   "outputs": [],
   "source": [
    "## These libraries will be helpful for us in data handling and plotting\n",
    "import pandas as pd\n",
    "import numpy as np\n",
    "import matplotlib.pyplot as plt\n",
    "import seaborn as sns\n",
    "\n",
    "## Libraries that will be helpful for us in machine learning\n",
    "from sklearn.model_selection import train_test_split\n",
    "from sklearn.linear_model import LinearRegression\n",
    "from sklearn.svm import SVR\n",
    "from sklearn.ensemble import RandomForestRegressor\n",
    "from sklearn.tree import DecisionTreeRegressor\n",
    "import xgboost as xgb\n",
    "from sklearn.linear_model import Ridge\n",
    "\n",
    "## evaluation metrics\n",
    "from sklearn.metrics import r2_score,mean_squared_error\n",
    "\n",
    "%matplotlib inline"
   ]
  },
  {
   "cell_type": "markdown",
   "metadata": {},
   "source": [
    "### Load the datasets"
   ]
  },
  {
   "cell_type": "code",
   "execution_count": 2,
   "metadata": {},
   "outputs": [
    {
     "data": {
      "text/html": [
       "<div>\n",
       "<style scoped>\n",
       "    .dataframe tbody tr th:only-of-type {\n",
       "        vertical-align: middle;\n",
       "    }\n",
       "\n",
       "    .dataframe tbody tr th {\n",
       "        vertical-align: top;\n",
       "    }\n",
       "\n",
       "    .dataframe thead th {\n",
       "        text-align: right;\n",
       "    }\n",
       "</style>\n",
       "<table border=\"1\" class=\"dataframe\">\n",
       "  <thead>\n",
       "    <tr style=\"text-align: right;\">\n",
       "      <th></th>\n",
       "      <th>id</th>\n",
       "      <th>listing_url</th>\n",
       "      <th>scrape_id</th>\n",
       "      <th>last_scraped</th>\n",
       "      <th>name</th>\n",
       "      <th>summary</th>\n",
       "      <th>space</th>\n",
       "      <th>description</th>\n",
       "      <th>experiences_offered</th>\n",
       "      <th>neighborhood_overview</th>\n",
       "      <th>...</th>\n",
       "      <th>review_scores_value</th>\n",
       "      <th>requires_license</th>\n",
       "      <th>license</th>\n",
       "      <th>jurisdiction_names</th>\n",
       "      <th>instant_bookable</th>\n",
       "      <th>cancellation_policy</th>\n",
       "      <th>require_guest_profile_picture</th>\n",
       "      <th>require_guest_phone_verification</th>\n",
       "      <th>calculated_host_listings_count</th>\n",
       "      <th>reviews_per_month</th>\n",
       "    </tr>\n",
       "  </thead>\n",
       "  <tbody>\n",
       "    <tr>\n",
       "      <th>0</th>\n",
       "      <td>241032</td>\n",
       "      <td>https://www.airbnb.com/rooms/241032</td>\n",
       "      <td>20160104002432</td>\n",
       "      <td>2016-01-04</td>\n",
       "      <td>Stylish Queen Anne Apartment</td>\n",
       "      <td>NaN</td>\n",
       "      <td>Make your self at home in this charming one-be...</td>\n",
       "      <td>Make your self at home in this charming one-be...</td>\n",
       "      <td>none</td>\n",
       "      <td>NaN</td>\n",
       "      <td>...</td>\n",
       "      <td>10.0</td>\n",
       "      <td>f</td>\n",
       "      <td>NaN</td>\n",
       "      <td>WASHINGTON</td>\n",
       "      <td>f</td>\n",
       "      <td>moderate</td>\n",
       "      <td>f</td>\n",
       "      <td>f</td>\n",
       "      <td>2</td>\n",
       "      <td>4.07</td>\n",
       "    </tr>\n",
       "    <tr>\n",
       "      <th>1</th>\n",
       "      <td>953595</td>\n",
       "      <td>https://www.airbnb.com/rooms/953595</td>\n",
       "      <td>20160104002432</td>\n",
       "      <td>2016-01-04</td>\n",
       "      <td>Bright &amp; Airy Queen Anne Apartment</td>\n",
       "      <td>Chemically sensitive? We've removed the irrita...</td>\n",
       "      <td>Beautiful, hypoallergenic apartment in an extr...</td>\n",
       "      <td>Chemically sensitive? We've removed the irrita...</td>\n",
       "      <td>none</td>\n",
       "      <td>Queen Anne is a wonderful, truly functional vi...</td>\n",
       "      <td>...</td>\n",
       "      <td>10.0</td>\n",
       "      <td>f</td>\n",
       "      <td>NaN</td>\n",
       "      <td>WASHINGTON</td>\n",
       "      <td>f</td>\n",
       "      <td>strict</td>\n",
       "      <td>t</td>\n",
       "      <td>t</td>\n",
       "      <td>6</td>\n",
       "      <td>1.48</td>\n",
       "    </tr>\n",
       "  </tbody>\n",
       "</table>\n",
       "<p>2 rows × 92 columns</p>\n",
       "</div>"
      ],
      "text/plain": [
       "       id                          listing_url       scrape_id last_scraped  \\\n",
       "0  241032  https://www.airbnb.com/rooms/241032  20160104002432   2016-01-04   \n",
       "1  953595  https://www.airbnb.com/rooms/953595  20160104002432   2016-01-04   \n",
       "\n",
       "                                 name  \\\n",
       "0        Stylish Queen Anne Apartment   \n",
       "1  Bright & Airy Queen Anne Apartment   \n",
       "\n",
       "                                             summary  \\\n",
       "0                                                NaN   \n",
       "1  Chemically sensitive? We've removed the irrita...   \n",
       "\n",
       "                                               space  \\\n",
       "0  Make your self at home in this charming one-be...   \n",
       "1  Beautiful, hypoallergenic apartment in an extr...   \n",
       "\n",
       "                                         description experiences_offered  \\\n",
       "0  Make your self at home in this charming one-be...                none   \n",
       "1  Chemically sensitive? We've removed the irrita...                none   \n",
       "\n",
       "                               neighborhood_overview  ... review_scores_value  \\\n",
       "0                                                NaN  ...                10.0   \n",
       "1  Queen Anne is a wonderful, truly functional vi...  ...                10.0   \n",
       "\n",
       "  requires_license license jurisdiction_names instant_bookable  \\\n",
       "0                f     NaN         WASHINGTON                f   \n",
       "1                f     NaN         WASHINGTON                f   \n",
       "\n",
       "  cancellation_policy  require_guest_profile_picture  \\\n",
       "0            moderate                              f   \n",
       "1              strict                              t   \n",
       "\n",
       "  require_guest_phone_verification calculated_host_listings_count  \\\n",
       "0                                f                              2   \n",
       "1                                t                              6   \n",
       "\n",
       "  reviews_per_month  \n",
       "0              4.07  \n",
       "1              1.48  \n",
       "\n",
       "[2 rows x 92 columns]"
      ]
     },
     "execution_count": 2,
     "metadata": {},
     "output_type": "execute_result"
    }
   ],
   "source": [
    "listings = pd.read_csv('listings.csv')\n",
    "listings.head(2)"
   ]
  },
  {
   "cell_type": "code",
   "execution_count": 3,
   "metadata": {},
   "outputs": [
    {
     "data": {
      "text/html": [
       "<div>\n",
       "<style scoped>\n",
       "    .dataframe tbody tr th:only-of-type {\n",
       "        vertical-align: middle;\n",
       "    }\n",
       "\n",
       "    .dataframe tbody tr th {\n",
       "        vertical-align: top;\n",
       "    }\n",
       "\n",
       "    .dataframe thead th {\n",
       "        text-align: right;\n",
       "    }\n",
       "</style>\n",
       "<table border=\"1\" class=\"dataframe\">\n",
       "  <thead>\n",
       "    <tr style=\"text-align: right;\">\n",
       "      <th></th>\n",
       "      <th>listing_id</th>\n",
       "      <th>date</th>\n",
       "      <th>available</th>\n",
       "      <th>price</th>\n",
       "    </tr>\n",
       "  </thead>\n",
       "  <tbody>\n",
       "    <tr>\n",
       "      <th>0</th>\n",
       "      <td>241032</td>\n",
       "      <td>2016-01-04</td>\n",
       "      <td>t</td>\n",
       "      <td>$85.00</td>\n",
       "    </tr>\n",
       "    <tr>\n",
       "      <th>1</th>\n",
       "      <td>241032</td>\n",
       "      <td>2016-01-05</td>\n",
       "      <td>t</td>\n",
       "      <td>$85.00</td>\n",
       "    </tr>\n",
       "  </tbody>\n",
       "</table>\n",
       "</div>"
      ],
      "text/plain": [
       "   listing_id        date available   price\n",
       "0      241032  2016-01-04         t  $85.00\n",
       "1      241032  2016-01-05         t  $85.00"
      ]
     },
     "execution_count": 3,
     "metadata": {},
     "output_type": "execute_result"
    }
   ],
   "source": [
    "calendar = pd.read_csv('calendar.csv')\n",
    "calendar.head(2)\n",
    "\n",
    "## Here date is the available date in listings and we will be mainly interesting in knowing the availability"
   ]
  },
  {
   "cell_type": "code",
   "execution_count": 4,
   "metadata": {},
   "outputs": [
    {
     "data": {
      "text/html": [
       "<div>\n",
       "<style scoped>\n",
       "    .dataframe tbody tr th:only-of-type {\n",
       "        vertical-align: middle;\n",
       "    }\n",
       "\n",
       "    .dataframe tbody tr th {\n",
       "        vertical-align: top;\n",
       "    }\n",
       "\n",
       "    .dataframe thead th {\n",
       "        text-align: right;\n",
       "    }\n",
       "</style>\n",
       "<table border=\"1\" class=\"dataframe\">\n",
       "  <thead>\n",
       "    <tr style=\"text-align: right;\">\n",
       "      <th></th>\n",
       "      <th>listing_id</th>\n",
       "      <th>id</th>\n",
       "      <th>date</th>\n",
       "      <th>reviewer_id</th>\n",
       "      <th>reviewer_name</th>\n",
       "      <th>comments</th>\n",
       "    </tr>\n",
       "  </thead>\n",
       "  <tbody>\n",
       "    <tr>\n",
       "      <th>0</th>\n",
       "      <td>7202016</td>\n",
       "      <td>38917982</td>\n",
       "      <td>2015-07-19</td>\n",
       "      <td>28943674</td>\n",
       "      <td>Bianca</td>\n",
       "      <td>Cute and cozy place. Perfect location to every...</td>\n",
       "    </tr>\n",
       "    <tr>\n",
       "      <th>1</th>\n",
       "      <td>7202016</td>\n",
       "      <td>39087409</td>\n",
       "      <td>2015-07-20</td>\n",
       "      <td>32440555</td>\n",
       "      <td>Frank</td>\n",
       "      <td>Kelly has a great room in a very central locat...</td>\n",
       "    </tr>\n",
       "  </tbody>\n",
       "</table>\n",
       "</div>"
      ],
      "text/plain": [
       "   listing_id        id        date  reviewer_id reviewer_name  \\\n",
       "0     7202016  38917982  2015-07-19     28943674        Bianca   \n",
       "1     7202016  39087409  2015-07-20     32440555         Frank   \n",
       "\n",
       "                                            comments  \n",
       "0  Cute and cozy place. Perfect location to every...  \n",
       "1  Kelly has a great room in a very central locat...  "
      ]
     },
     "execution_count": 4,
     "metadata": {},
     "output_type": "execute_result"
    }
   ],
   "source": [
    "reviews = pd.read_csv('reviews.csv')\n",
    "reviews.head(2)"
   ]
  },
  {
   "cell_type": "markdown",
   "metadata": {},
   "source": [
    "### LEARNING ABOUT THE DATASETS"
   ]
  },
  {
   "cell_type": "markdown",
   "metadata": {},
   "source": [
    "#### 1. LISTING DATASET \n",
    "\n",
    "#### A.Check if there are any null values in LISTINGS table"
   ]
  },
  {
   "cell_type": "code",
   "execution_count": 5,
   "metadata": {},
   "outputs": [
    {
     "data": {
      "text/plain": [
       "<matplotlib.axes._subplots.AxesSubplot at 0x1cb8149ba58>"
      ]
     },
     "execution_count": 5,
     "metadata": {},
     "output_type": "execute_result"
    },
    {
     "data": {
      "image/png": "[encoded data removed]",
      "text/plain": [
       "<Figure size 576x288 with 1 Axes>"
      ]
     },
     "metadata": {
      "needs_background": "light"
     },
     "output_type": "display_data"
    }
   ],
   "source": [
    "listings_null = listings.isnull().mean() *100\n",
    "listings_null[listings_null>0].plot(kind='bar',figsize=((8,4)))"
   ]
  },
  {
   "cell_type": "markdown",
   "metadata": {},
   "source": [
    "**From the above we can see that, columns like notes,square_feet,weekly_price, monthly_price, security_deposit, licencse has null values more than 40%. We can later on remove these from our dataset analysis**"
   ]
  },
  {
   "cell_type": "markdown",
   "metadata": {},
   "source": [
    "#### B. Lets drop the columns that we won't be of very much use to us"
   ]
  },
  {
   "cell_type": "code",
   "execution_count": 7,
   "metadata": {},
   "outputs": [],
   "source": [
    "cols_to_drop = ['listing_url','notes','square_feet','weekly_price','monthly_price','security_deposit','license','last_scraped','scrape_id',\n",
    "         'summary','space','description','experiences_offered','neighborhood_overview','notes','transit','thumbnail_url',\n",
    "         'xl_picture_url','medium_url','picture_url','host_url','host_name','host_about','host_thumbnail_url',\n",
    "         'host_picture_url','city','state','market','country_code','country','latitude','longitude','smart_location',\n",
    "         'has_availability','availability_30','availability_60','availability_90','availability_365','calendar_last_scraped',\n",
    "         'first_review','last_review','requires_license','jurisdiction_names','host_is_superhost','host_total_listings_count',\n",
    "        'host_has_profile_pic','host_identity_verified','zipcode','neighbourhood','neighbourhood_cleansed']"
   ]
  },
  {
   "cell_type": "code",
   "execution_count": 8,
   "metadata": {},
   "outputs": [],
   "source": [
    "listings.drop(cols_to_drop,axis=1,inplace=True)"
   ]
  },
  {
   "cell_type": "code",
   "execution_count": 9,
   "metadata": {},
   "outputs": [
    {
     "name": "stdout",
     "output_type": "stream",
     "text": [
      "Shape of the dataset after removing the dataset is: (3818, 43)\n"
     ]
    }
   ],
   "source": [
    "print(\"Shape of the dataset after removing the dataset is:\",listings.shape)"
   ]
  },
  {
   "cell_type": "markdown",
   "metadata": {},
   "source": [
    "**So,we see that we drop a lot of columns from the dataset.We dropped the features like url as they won't be much use for us. Also, while checking run the command listing[col].value_counts(), and if the values are same, that means we should drop it. Additionally we also drop the features that more than 40% of missing values in it.**"
   ]
  },
  {
   "cell_type": "markdown",
   "metadata": {},
   "source": [
    "#### C. Check out the number of categorical variables and numerical features left after dropping the features"
   ]
  },
  {
   "cell_type": "code",
   "execution_count": 10,
   "metadata": {},
   "outputs": [
    {
     "name": "stdout",
     "output_type": "stream",
     "text": [
      "Number of features that are categorical: 23\n"
     ]
    }
   ],
   "source": [
    "print(\"Number of features that are categorical:\",len(listings.select_dtypes(include=['object']).columns))"
   ]
  },
  {
   "cell_type": "code",
   "execution_count": 11,
   "metadata": {},
   "outputs": [
    {
     "name": "stdout",
     "output_type": "stream",
     "text": [
      "Number of features that are numerical: 12\n"
     ]
    }
   ],
   "source": [
    "print(\"Number of features that are numerical:\",len(listings.select_dtypes(include=['int','float']).columns))"
   ]
  },
  {
   "cell_type": "code",
   "execution_count": 12,
   "metadata": {},
   "outputs": [
    {
     "name": "stdout",
     "output_type": "stream",
     "text": [
      "Shape of the dataset is: (3818, 43)\n"
     ]
    }
   ],
   "source": [
    "print(\"Shape of the dataset is:\",listings.shape)"
   ]
  },
  {
   "cell_type": "code",
   "execution_count": 13,
   "metadata": {},
   "outputs": [],
   "source": [
    "def cleaning_listing_dataset(dff):\n",
    "    \n",
    "    ## Here what we can do is that we can take only cities so that in future it would be easy for us to visualize also\n",
    "    dff['cities'] = dff.host_location.str.split(',').str[0]\n",
    "    dff.drop('host_location',axis=1,inplace=True)\n",
    "    \n",
    "    ## We can also realize that since most of the data is based out in  seattle, so we can pick only street name\n",
    "    dff['street'] = dff.street.str.split(',').str[0]\n",
    "    \n",
    "    ## separate month, year and date from host_since\n",
    "    dff['host_year'] = dff['host_since'].str.strip().str.split('-').str[0].astype(float)\n",
    "    dff['host_month'] = dff['host_since'].str.strip().str.split('-').str[1].astype(float)\n",
    "    dff['host_date'] = dff['host_since'].str.strip().str.split('-').str[2].astype(float)\n",
    "    dff.drop('host_since',axis=1,inplace=True)\n",
    "    \n",
    "    ## remove $ from cleaning_fees, fees\n",
    "    dff['cleaning_fee'] = dollar_removal('cleaning_fee')\n",
    "    dff['price']  = dollar_removal('price')\n",
    "    \n",
    "    ## similarily we will remove the % sign\n",
    "    dff['host_response_rate'] = percent_removal('host_response_rate')\n",
    "    \n",
    "    ### also convert extra people into 1/0\n",
    "    dff['extra_people_cat'] =dff['extra_people'].apply(lambda x: extra_people_clean(x))\n",
    "    \n",
    "    dff.drop('host_acceptance_rate',axis=1,inplace=True) ## as almost all of them are 100%, and onlyt 1 is 0%\n",
    "    \n",
    "    ### now have to deal with ameneties and host_verifications\n",
    "    convert_values_into_cols(dff,'host_verifications')\n",
    "    dff.drop('host_verifications',axis=1,inplace=True)\n",
    "    \n",
    "    convert_values_into_cols(dff,'amenities')\n",
    "    dff.drop('amenities',axis=1, inplace=True)\n",
    "    \n",
    "    ## we can also convert the host_response_rate to different buckets\n",
    "    dff['host_response_bucket'] = pd.cut(x = dff['host_response_rate'],bins=5,labels = False, duplicates = 'drop')\n",
    "    \n",
    "    return dff"
   ]
  },
  {
   "cell_type": "code",
   "execution_count": 14,
   "metadata": {},
   "outputs": [],
   "source": [
    "def extra_people_clean(val):\n",
    "    \n",
    "    if val == \"$0.00\":\n",
    "        return 0\n",
    "    else:\n",
    "        return 1"
   ]
  },
  {
   "cell_type": "code",
   "execution_count": 15,
   "metadata": {},
   "outputs": [],
   "source": [
    "def percent_removal(column):\n",
    "    return listings[column].str.strip().str.replace('[%,]','').astype(float)"
   ]
  },
  {
   "cell_type": "code",
   "execution_count": 16,
   "metadata": {},
   "outputs": [],
   "source": [
    "def dollar_removal(column):\n",
    "    return listings[column].str.strip().str.replace('[$,]','').astype(float)"
   ]
  },
  {
   "cell_type": "code",
   "execution_count": 17,
   "metadata": {},
   "outputs": [],
   "source": [
    "def convert_values_into_cols(df, col):\n",
    "    values_count  = {}\n",
    "    for i in df[col]:\n",
    "        for j in i.replace(\"[\",'').replace(\"'\",'').replace(\"]\",'').replace(\"{\",'').replace(\"}\",'').split(','):\n",
    "            if j in values_count:\n",
    "                values_count[j]+=1\n",
    "            else:\n",
    "                values_count[j] = 0\n",
    "    \n",
    "    ### we will only select the top 10 ameneties/host_verification modes,so lets sort them\n",
    "    values_count = sorted(values_count.items(),key =  lambda x: x[1],reverse=True)[:10]\n",
    "    \n",
    "    # Now lets create a column for each row,so we will check whether each value is present in each row and we will\n",
    "    # then replace it with 1, else we will replace it with 0\n",
    "    for val in values_count:\n",
    "        df[col+'_'+val[0]] = df.apply(lambda row: get_val(row,col, val[0]),axis=1)\n",
    "    return "
   ]
  },
  {
   "cell_type": "code",
   "execution_count": 18,
   "metadata": {},
   "outputs": [],
   "source": [
    "def get_val(row,col, values):\n",
    "    \n",
    "    num = 0\n",
    "    rows_values = row[col].replace(\"[\",'').replace(\"'\",'').replace(\"]\",'').replace(\"{\",'').replace(\"}\",'').split(',')\n",
    "    if values in  rows_values:\n",
    "        num = 1\n",
    "    else:\n",
    "        num=0\n",
    "    \n",
    "    return num"
   ]
  },
  {
   "cell_type": "code",
   "execution_count": 19,
   "metadata": {},
   "outputs": [],
   "source": [
    "cleaned_listings = cleaning_listing_dataset(listings)"
   ]
  },
  {
   "cell_type": "code",
   "execution_count": 20,
   "metadata": {},
   "outputs": [
    {
     "data": {
      "text/html": [
       "<div>\n",
       "<style scoped>\n",
       "    .dataframe tbody tr th:only-of-type {\n",
       "        vertical-align: middle;\n",
       "    }\n",
       "\n",
       "    .dataframe tbody tr th {\n",
       "        vertical-align: top;\n",
       "    }\n",
       "\n",
       "    .dataframe thead th {\n",
       "        text-align: right;\n",
       "    }\n",
       "</style>\n",
       "<table border=\"1\" class=\"dataframe\">\n",
       "  <thead>\n",
       "    <tr style=\"text-align: right;\">\n",
       "      <th></th>\n",
       "      <th>id</th>\n",
       "      <th>name</th>\n",
       "      <th>host_id</th>\n",
       "      <th>host_response_time</th>\n",
       "      <th>host_response_rate</th>\n",
       "      <th>host_neighbourhood</th>\n",
       "      <th>host_listings_count</th>\n",
       "      <th>street</th>\n",
       "      <th>neighbourhood_group_cleansed</th>\n",
       "      <th>is_location_exact</th>\n",
       "      <th>...</th>\n",
       "      <th>amenities_Heating</th>\n",
       "      <th>amenities_Kitchen</th>\n",
       "      <th>amenities_\"Smoke Detector\"</th>\n",
       "      <th>amenities_Essentials</th>\n",
       "      <th>amenities_Dryer</th>\n",
       "      <th>amenities_Washer</th>\n",
       "      <th>amenities_Internet</th>\n",
       "      <th>amenities_Shampoo</th>\n",
       "      <th>amenities_TV</th>\n",
       "      <th>host_response_bucket</th>\n",
       "    </tr>\n",
       "  </thead>\n",
       "  <tbody>\n",
       "    <tr>\n",
       "      <th>0</th>\n",
       "      <td>241032</td>\n",
       "      <td>Stylish Queen Anne Apartment</td>\n",
       "      <td>956883</td>\n",
       "      <td>within a few hours</td>\n",
       "      <td>96.0</td>\n",
       "      <td>Queen Anne</td>\n",
       "      <td>3.0</td>\n",
       "      <td>Gilman Dr W</td>\n",
       "      <td>Queen Anne</td>\n",
       "      <td>t</td>\n",
       "      <td>...</td>\n",
       "      <td>1</td>\n",
       "      <td>1</td>\n",
       "      <td>0</td>\n",
       "      <td>0</td>\n",
       "      <td>1</td>\n",
       "      <td>1</td>\n",
       "      <td>1</td>\n",
       "      <td>0</td>\n",
       "      <td>1</td>\n",
       "      <td>4.0</td>\n",
       "    </tr>\n",
       "    <tr>\n",
       "      <th>1</th>\n",
       "      <td>953595</td>\n",
       "      <td>Bright &amp; Airy Queen Anne Apartment</td>\n",
       "      <td>5177328</td>\n",
       "      <td>within an hour</td>\n",
       "      <td>98.0</td>\n",
       "      <td>Queen Anne</td>\n",
       "      <td>6.0</td>\n",
       "      <td>7th Avenue West</td>\n",
       "      <td>Queen Anne</td>\n",
       "      <td>t</td>\n",
       "      <td>...</td>\n",
       "      <td>1</td>\n",
       "      <td>1</td>\n",
       "      <td>1</td>\n",
       "      <td>1</td>\n",
       "      <td>1</td>\n",
       "      <td>1</td>\n",
       "      <td>1</td>\n",
       "      <td>0</td>\n",
       "      <td>1</td>\n",
       "      <td>4.0</td>\n",
       "    </tr>\n",
       "    <tr>\n",
       "      <th>2</th>\n",
       "      <td>3308979</td>\n",
       "      <td>New Modern House-Amazing water view</td>\n",
       "      <td>16708587</td>\n",
       "      <td>within a few hours</td>\n",
       "      <td>67.0</td>\n",
       "      <td>Queen Anne</td>\n",
       "      <td>2.0</td>\n",
       "      <td>West Lee Street</td>\n",
       "      <td>Queen Anne</td>\n",
       "      <td>t</td>\n",
       "      <td>...</td>\n",
       "      <td>1</td>\n",
       "      <td>1</td>\n",
       "      <td>1</td>\n",
       "      <td>1</td>\n",
       "      <td>1</td>\n",
       "      <td>1</td>\n",
       "      <td>1</td>\n",
       "      <td>1</td>\n",
       "      <td>1</td>\n",
       "      <td>3.0</td>\n",
       "    </tr>\n",
       "    <tr>\n",
       "      <th>3</th>\n",
       "      <td>7421966</td>\n",
       "      <td>Queen Anne Chateau</td>\n",
       "      <td>9851441</td>\n",
       "      <td>NaN</td>\n",
       "      <td>NaN</td>\n",
       "      <td>Queen Anne</td>\n",
       "      <td>1.0</td>\n",
       "      <td>8th Avenue West</td>\n",
       "      <td>Queen Anne</td>\n",
       "      <td>t</td>\n",
       "      <td>...</td>\n",
       "      <td>1</td>\n",
       "      <td>1</td>\n",
       "      <td>1</td>\n",
       "      <td>1</td>\n",
       "      <td>1</td>\n",
       "      <td>1</td>\n",
       "      <td>1</td>\n",
       "      <td>1</td>\n",
       "      <td>0</td>\n",
       "      <td>NaN</td>\n",
       "    </tr>\n",
       "    <tr>\n",
       "      <th>4</th>\n",
       "      <td>278830</td>\n",
       "      <td>Charming craftsman 3 bdm house</td>\n",
       "      <td>1452570</td>\n",
       "      <td>within an hour</td>\n",
       "      <td>100.0</td>\n",
       "      <td>Queen Anne</td>\n",
       "      <td>2.0</td>\n",
       "      <td>14th Ave W</td>\n",
       "      <td>Queen Anne</td>\n",
       "      <td>t</td>\n",
       "      <td>...</td>\n",
       "      <td>1</td>\n",
       "      <td>1</td>\n",
       "      <td>1</td>\n",
       "      <td>1</td>\n",
       "      <td>0</td>\n",
       "      <td>0</td>\n",
       "      <td>1</td>\n",
       "      <td>1</td>\n",
       "      <td>1</td>\n",
       "      <td>4.0</td>\n",
       "    </tr>\n",
       "  </tbody>\n",
       "</table>\n",
       "<p>5 rows × 64 columns</p>\n",
       "</div>"
      ],
      "text/plain": [
       "        id                                 name   host_id  host_response_time  \\\n",
       "0   241032         Stylish Queen Anne Apartment    956883  within a few hours   \n",
       "1   953595   Bright & Airy Queen Anne Apartment   5177328      within an hour   \n",
       "2  3308979  New Modern House-Amazing water view  16708587  within a few hours   \n",
       "3  7421966                   Queen Anne Chateau   9851441                 NaN   \n",
       "4   278830       Charming craftsman 3 bdm house   1452570      within an hour   \n",
       "\n",
       "   host_response_rate host_neighbourhood  host_listings_count  \\\n",
       "0                96.0         Queen Anne                  3.0   \n",
       "1                98.0         Queen Anne                  6.0   \n",
       "2                67.0         Queen Anne                  2.0   \n",
       "3                 NaN         Queen Anne                  1.0   \n",
       "4               100.0         Queen Anne                  2.0   \n",
       "\n",
       "            street neighbourhood_group_cleansed is_location_exact  ...  \\\n",
       "0      Gilman Dr W                   Queen Anne                 t  ...   \n",
       "1  7th Avenue West                   Queen Anne                 t  ...   \n",
       "2  West Lee Street                   Queen Anne                 t  ...   \n",
       "3  8th Avenue West                   Queen Anne                 t  ...   \n",
       "4       14th Ave W                   Queen Anne                 t  ...   \n",
       "\n",
       "  amenities_Heating amenities_Kitchen  amenities_\"Smoke Detector\"  \\\n",
       "0                 1                 1                           0   \n",
       "1                 1                 1                           1   \n",
       "2                 1                 1                           1   \n",
       "3                 1                 1                           1   \n",
       "4                 1                 1                           1   \n",
       "\n",
       "   amenities_Essentials  amenities_Dryer  amenities_Washer amenities_Internet  \\\n",
       "0                     0                1                 1                  1   \n",
       "1                     1                1                 1                  1   \n",
       "2                     1                1                 1                  1   \n",
       "3                     1                1                 1                  1   \n",
       "4                     1                0                 0                  1   \n",
       "\n",
       "   amenities_Shampoo  amenities_TV  host_response_bucket  \n",
       "0                  0             1                   4.0  \n",
       "1                  0             1                   4.0  \n",
       "2                  1             1                   3.0  \n",
       "3                  1             0                   NaN  \n",
       "4                  1             1                   4.0  \n",
       "\n",
       "[5 rows x 64 columns]"
      ]
     },
     "execution_count": 20,
     "metadata": {},
     "output_type": "execute_result"
    }
   ],
   "source": [
    "cleaned_listings.head()"
   ]
  },
  {
   "cell_type": "markdown",
   "metadata": {},
   "source": [
    "### 2. Calendar dataset\n",
    "\n",
    "#### A. Check if there are any null values in CALENDER table"
   ]
  },
  {
   "cell_type": "code",
   "execution_count": 21,
   "metadata": {},
   "outputs": [
    {
     "data": {
      "text/plain": [
       "<matplotlib.axes._subplots.AxesSubplot at 0x1cb81f8a9b0>"
      ]
     },
     "execution_count": 21,
     "metadata": {},
     "output_type": "execute_result"
    },
    {
     "data": {
      "image/png": "[encoded data removed]",
      "text/plain": [
       "<Figure size 504x288 with 1 Axes>"
      ]
     },
     "metadata": {
      "needs_background": "light"
     },
     "output_type": "display_data"
    }
   ],
   "source": [
    "calender_null = calendar.isnull().mean()\n",
    "calender_null[calender_null >0].plot(kind='bar',figsize=(7,4))"
   ]
  },
  {
   "cell_type": "markdown",
   "metadata": {},
   "source": [
    "**Here we can see that the price column has around 32% of values as missing, we will drop these, as null values are for those where there is no availability.**"
   ]
  },
  {
   "cell_type": "code",
   "execution_count": 22,
   "metadata": {},
   "outputs": [],
   "source": [
    "def calendar_cleaning(df):\n",
    "    \n",
    "    df.dropna(subset = ['price'],inplace=True) # we do it because for non-availabilty we dont have any price\n",
    "    df.drop('available',axis=1, inplace=True)\n",
    "    \n",
    "    df['price'] = df['price'].str.strip().str.replace('[$,]','').astype('float')\n",
    "    df['available_year']  = df['date'].str.split('-').str[0].astype(int)\n",
    "    df['available_month'] = df['date'].str.split('-').str[1].astype(int)\n",
    "    df['available_date'] = df['date'].str.split('-').str[2].astype(int)\n",
    "    ### Now we can also drop the date column, as we dont need it now\n",
    "    df.drop('date',axis=1,inplace=True)\n",
    "    \n",
    "    return df"
   ]
  },
  {
   "cell_type": "code",
   "execution_count": 23,
   "metadata": {},
   "outputs": [],
   "source": [
    "cleaned_calendar = calendar_cleaning(calendar)"
   ]
  },
  {
   "cell_type": "code",
   "execution_count": 24,
   "metadata": {},
   "outputs": [
    {
     "data": {
      "text/html": [
       "<div>\n",
       "<style scoped>\n",
       "    .dataframe tbody tr th:only-of-type {\n",
       "        vertical-align: middle;\n",
       "    }\n",
       "\n",
       "    .dataframe tbody tr th {\n",
       "        vertical-align: top;\n",
       "    }\n",
       "\n",
       "    .dataframe thead th {\n",
       "        text-align: right;\n",
       "    }\n",
       "</style>\n",
       "<table border=\"1\" class=\"dataframe\">\n",
       "  <thead>\n",
       "    <tr style=\"text-align: right;\">\n",
       "      <th></th>\n",
       "      <th>listing_id</th>\n",
       "      <th>price</th>\n",
       "      <th>available_year</th>\n",
       "      <th>available_month</th>\n",
       "      <th>available_date</th>\n",
       "    </tr>\n",
       "  </thead>\n",
       "  <tbody>\n",
       "    <tr>\n",
       "      <th>0</th>\n",
       "      <td>241032</td>\n",
       "      <td>85.0</td>\n",
       "      <td>2016</td>\n",
       "      <td>1</td>\n",
       "      <td>4</td>\n",
       "    </tr>\n",
       "    <tr>\n",
       "      <th>1</th>\n",
       "      <td>241032</td>\n",
       "      <td>85.0</td>\n",
       "      <td>2016</td>\n",
       "      <td>1</td>\n",
       "      <td>5</td>\n",
       "    </tr>\n",
       "    <tr>\n",
       "      <th>9</th>\n",
       "      <td>241032</td>\n",
       "      <td>85.0</td>\n",
       "      <td>2016</td>\n",
       "      <td>1</td>\n",
       "      <td>13</td>\n",
       "    </tr>\n",
       "    <tr>\n",
       "      <th>10</th>\n",
       "      <td>241032</td>\n",
       "      <td>85.0</td>\n",
       "      <td>2016</td>\n",
       "      <td>1</td>\n",
       "      <td>14</td>\n",
       "    </tr>\n",
       "    <tr>\n",
       "      <th>14</th>\n",
       "      <td>241032</td>\n",
       "      <td>85.0</td>\n",
       "      <td>2016</td>\n",
       "      <td>1</td>\n",
       "      <td>18</td>\n",
       "    </tr>\n",
       "  </tbody>\n",
       "</table>\n",
       "</div>"
      ],
      "text/plain": [
       "    listing_id  price  available_year  available_month  available_date\n",
       "0       241032   85.0            2016                1               4\n",
       "1       241032   85.0            2016                1               5\n",
       "9       241032   85.0            2016                1              13\n",
       "10      241032   85.0            2016                1              14\n",
       "14      241032   85.0            2016                1              18"
      ]
     },
     "execution_count": 24,
     "metadata": {},
     "output_type": "execute_result"
    }
   ],
   "source": [
    "cleaned_calendar.head()"
   ]
  },
  {
   "cell_type": "markdown",
   "metadata": {},
   "source": [
    "### 3. At this point we have the cleaned datasets, now lets merge both the datasets, and also, we need to fill the missing values"
   ]
  },
  {
   "cell_type": "code",
   "execution_count": 25,
   "metadata": {},
   "outputs": [],
   "source": [
    "def merge_datasets(df1,df2):\n",
    "    df = pd.merge(df1,df2,left_on ='listing_id', right_on = \"id\")\n",
    "    \n",
    "    ### here we can see that all of the values related to reviews_* are numerical and contains null values\n",
    "    reviews_cols =['review_scores_rating', 'review_scores_accuracy','review_scores_cleanliness', 'review_scores_checkin',\n",
    "                   'review_scores_communication', 'review_scores_location','review_scores_value', 'reviews_per_month']\n",
    "    \n",
    "    for cols in reviews_cols:\n",
    "        df[cols].fillna(value = df[cols].mean(), inplace=True)\n",
    "        \n",
    "    # Then null values in the below feature are replaced with there mode values\n",
    "    df['beds'].fillna(df['beds'].mode()[0], inplace=True)\n",
    "    df['bathrooms'].fillna(df['bathrooms'].mode()[0], inplace=True)\n",
    "    df['bedrooms'].fillna(df['bedrooms'].mode()[0], inplace=True)\n",
    "    df['property_type'].fillna(df['property_type'].mode()[0], inplace=True)\n",
    "    df['cities'].fillna(df['cities'].mode()[0], inplace=True)\n",
    "    df['host_response_time'].fillna(df['host_response_time'].mode()[0], inplace=True)\n",
    "    df['host_neighbourhood'].fillna(df['host_neighbourhood'].mode()[0], inplace=True)\n",
    "    df['cleaning_fee'].fillna(df['cleaning_fee'].mode()[0], inplace=True)\n",
    "    df['host_response_bucket'].fillna(df['host_response_bucket'].mode()[0], inplace=True)\n",
    "    \n",
    "    # Then null values in the below feature are replaced with there mean values\n",
    "    df['host_response_rate'].fillna(df['host_response_rate'].mean(),inplace=True)\n",
    "    df['host_year'].fillna(df['host_year'].mean(), inplace=True)\n",
    "    df['host_month'].fillna(df['host_month'].mean(), inplace=True)\n",
    "    df['host_date'].fillna(df['host_date'].mean(), inplace=True)\n",
    "    \n",
    "    df.dropna(inplace=True)\n",
    "    \n",
    "    return df"
   ]
  },
  {
   "cell_type": "code",
   "execution_count": 26,
   "metadata": {},
   "outputs": [],
   "source": [
    "df = merge_datasets(cleaned_calendar, cleaned_listings)"
   ]
  },
  {
   "cell_type": "code",
   "execution_count": 27,
   "metadata": {},
   "outputs": [],
   "source": [
    "df.drop(['price_y','name'],axis=1, inplace=True)\n",
    "## here we are dropping price_y, as it came twice and also name as it is the name of the property"
   ]
  },
  {
   "cell_type": "markdown",
   "metadata": {},
   "source": [
    "**This this point all the data has been merged.Now lets solve the problems assigned with this dataset**"
   ]
  },
  {
   "cell_type": "markdown",
   "metadata": {},
   "source": [
    "### 1. What are the busiest times of the year to visit Seattle? By how much do prices spike?\n",
    "\n",
    "#### Is there a general upward trend of both new Airbnb listings and total Airbnb visitors to Seattle?"
   ]
  },
  {
   "cell_type": "markdown",
   "metadata": {},
   "source": [
    "**To solve the part-a) what we can do is year-wise, we can take check the trend of months and the listings **\n",
    "**For part-b) what we can check the months vs price and see the price spikes**"
   ]
  },
  {
   "cell_type": "markdown",
   "metadata": {},
   "source": [
    "#### PART-A"
   ]
  },
  {
   "cell_type": "code",
   "execution_count": 28,
   "metadata": {},
   "outputs": [
    {
     "data": {
      "text/plain": [
       "2016    928752\n",
       "2017      5698\n",
       "Name: available_year, dtype: int64"
      ]
     },
     "execution_count": 28,
     "metadata": {},
     "output_type": "execute_result"
    }
   ],
   "source": [
    "df['available_year'].value_counts()"
   ]
  },
  {
   "cell_type": "code",
   "execution_count": 29,
   "metadata": {},
   "outputs": [],
   "source": [
    "df_2016 =  df[df['available_year']==2016]"
   ]
  },
  {
   "cell_type": "code",
   "execution_count": 30,
   "metadata": {},
   "outputs": [
    {
     "data": {
      "image/png": "[encoded data removed]",
      "text/plain": [
       "<Figure size 432x288 with 1 Axes>"
      ]
     },
     "metadata": {
      "needs_background": "light"
     },
     "output_type": "display_data"
    }
   ],
   "source": [
    "df_2016.groupby('available_month').agg({'host_listings_count':'sum'}).plot()\n",
    "plt.ylabel('Number of listings')\n",
    "plt.title('Number of listing per month for year 2016');"
   ]
  },
  {
   "cell_type": "markdown",
   "metadata": {},
   "source": [
    "**Here one thing to note is that we are mainly interested in Calendar availability of months, date & year, as these are the dates on which the particular listing is available, whereas the host dates are the dates when host can offer the listings but not the availabilty**\n",
    "\n",
    "**In the above we can see that the busiest time of the year in Seattle is March means summer and we can see some increasing trend in december means winter, so it tells us that summer and winter are the busiest time in seattle**"
   ]
  },
  {
   "cell_type": "markdown",
   "metadata": {},
   "source": [
    "#### PART-B"
   ]
  },
  {
   "cell_type": "code",
   "execution_count": 31,
   "metadata": {},
   "outputs": [
    {
     "data": {
      "image/png": "[encoded data removed]",
      "text/plain": [
       "<Figure size 432x288 with 1 Axes>"
      ]
     },
     "metadata": {
      "needs_background": "light"
     },
     "output_type": "display_data"
    }
   ],
   "source": [
    "df_2016.groupby('available_month').agg({'price_x':'mean'}).plot()\n",
    "plt.ylabel('Price in $')\n",
    "plt.title('Price v/s months for year 2016');"
   ]
  },
  {
   "cell_type": "markdown",
   "metadata": {},
   "source": [
    "**Here we can notice that, prices are more in months of June-July-aug-sep, it may be due to the fact that there are less listings available when we compare it with the above graph**"
   ]
  },
  {
   "cell_type": "markdown",
   "metadata": {},
   "source": [
    "### 2. Can you describe the vibe of each Seattle neighborhood using listing descriptions?\n",
    "\n",
    "**For this, first of all we need to group by them on the basis of months and neighbourhood**"
   ]
  },
  {
   "cell_type": "code",
   "execution_count": 32,
   "metadata": {},
   "outputs": [
    {
     "data": {
      "text/html": [
       "<div>\n",
       "<style scoped>\n",
       "    .dataframe tbody tr th:only-of-type {\n",
       "        vertical-align: middle;\n",
       "    }\n",
       "\n",
       "    .dataframe tbody tr th {\n",
       "        vertical-align: top;\n",
       "    }\n",
       "\n",
       "    .dataframe thead th {\n",
       "        text-align: right;\n",
       "    }\n",
       "</style>\n",
       "<table border=\"1\" class=\"dataframe\">\n",
       "  <thead>\n",
       "    <tr style=\"text-align: right;\">\n",
       "      <th></th>\n",
       "      <th>available_month</th>\n",
       "      <th>neighbourhood_group_cleansed</th>\n",
       "      <th>price_x</th>\n",
       "    </tr>\n",
       "  </thead>\n",
       "  <tbody>\n",
       "    <tr>\n",
       "      <th>0</th>\n",
       "      <td>1</td>\n",
       "      <td>Ballard</td>\n",
       "      <td>108.986406</td>\n",
       "    </tr>\n",
       "    <tr>\n",
       "      <th>1</th>\n",
       "      <td>1</td>\n",
       "      <td>Beacon Hill</td>\n",
       "      <td>97.777725</td>\n",
       "    </tr>\n",
       "    <tr>\n",
       "      <th>2</th>\n",
       "      <td>1</td>\n",
       "      <td>Capitol Hill</td>\n",
       "      <td>123.823421</td>\n",
       "    </tr>\n",
       "    <tr>\n",
       "      <th>3</th>\n",
       "      <td>1</td>\n",
       "      <td>Cascade</td>\n",
       "      <td>139.289689</td>\n",
       "    </tr>\n",
       "    <tr>\n",
       "      <th>4</th>\n",
       "      <td>1</td>\n",
       "      <td>Central Area</td>\n",
       "      <td>120.513238</td>\n",
       "    </tr>\n",
       "  </tbody>\n",
       "</table>\n",
       "</div>"
      ],
      "text/plain": [
       "   available_month neighbourhood_group_cleansed     price_x\n",
       "0                1                      Ballard  108.986406\n",
       "1                1                  Beacon Hill   97.777725\n",
       "2                1                 Capitol Hill  123.823421\n",
       "3                1                      Cascade  139.289689\n",
       "4                1                 Central Area  120.513238"
      ]
     },
     "execution_count": 32,
     "metadata": {},
     "output_type": "execute_result"
    }
   ],
   "source": [
    "neighbourhood_data = df.groupby(['available_month','neighbourhood_group_cleansed']).mean()['price_x'].reset_index()\n",
    "neighbourhood_data.head()"
   ]
  },
  {
   "cell_type": "code",
   "execution_count": 33,
   "metadata": {},
   "outputs": [
    {
     "data": {
      "image/png": "[encoded data removed]",
      "text/plain": [
       "<Figure size 576x576 with 1 Axes>"
      ]
     },
     "metadata": {
      "needs_background": "light"
     },
     "output_type": "display_data"
    }
   ],
   "source": [
    "unique_neighbourhood = neighbourhood_data.neighbourhood_group_cleansed.unique()\n",
    "fig = plt.figure(figsize=(8,8))\n",
    "ax = plt.subplot(111)\n",
    "for i in unique_neighbourhood:\n",
    "    ax.plot(neighbourhood_data[neighbourhood_data['neighbourhood_group_cleansed'] ==i]['available_month'],\n",
    "           neighbourhood_data[neighbourhood_data['neighbourhood_group_cleansed'] ==i]['price_x'],label=i)\n",
    "\n",
    "ax.legend(loc='lower right')\n",
    "ax.set(title = 'Average Price v/s months for different locations', xlabel = 'Months', ylabel='Price');"
   ]
  },
  {
   "cell_type": "markdown",
   "metadata": {},
   "source": [
    "**In the above we can see different prices for different locations**"
   ]
  },
  {
   "cell_type": "markdown",
   "metadata": {},
   "source": [
    "### NOW LETS DO MACHINE LEARNING OVER IT"
   ]
  },
  {
   "cell_type": "markdown",
   "metadata": {},
   "source": [
    "**1. Lets delete some of the features that are of no use now**"
   ]
  },
  {
   "cell_type": "code",
   "execution_count": 34,
   "metadata": {},
   "outputs": [],
   "source": [
    "df.drop(['listing_id','id','host_id'],axis=1,inplace=True)"
   ]
  },
  {
   "cell_type": "code",
   "execution_count": 35,
   "metadata": {},
   "outputs": [],
   "source": [
    "# In street column, we can see there are lot of unique values which are very difficult to convert to categorical\n",
    "# so better to drop this as well\n",
    "\n",
    "df.drop('street',axis=1,inplace=True)"
   ]
  },
  {
   "cell_type": "markdown",
   "metadata": {},
   "source": [
    "**2. Now convert all the categorical features with dummy variables**"
   ]
  },
  {
   "cell_type": "code",
   "execution_count": 36,
   "metadata": {},
   "outputs": [
    {
     "data": {
      "text/plain": [
       "Index(['host_response_time', 'host_neighbourhood',\n",
       "       'neighbourhood_group_cleansed', 'is_location_exact', 'property_type',\n",
       "       'room_type', 'bed_type', 'extra_people', 'calendar_updated',\n",
       "       'instant_bookable', 'cancellation_policy',\n",
       "       'require_guest_profile_picture', 'require_guest_phone_verification',\n",
       "       'cities'],\n",
       "      dtype='object')"
      ]
     },
     "execution_count": 36,
     "metadata": {},
     "output_type": "execute_result"
    }
   ],
   "source": [
    "cat_features = df.select_dtypes(include = ['object']).columns\n",
    "cat_features\n",
    "\n",
    "### These are all of the categorical features that are present in dataframe"
   ]
  },
  {
   "cell_type": "code",
   "execution_count": 37,
   "metadata": {},
   "outputs": [],
   "source": [
    "for col in cat_features:\n",
    "    \n",
    "    dummies = pd.get_dummies(df[col],prefix=col, prefix_sep='_')\n",
    "    df = pd.concat((df.drop(col,axis=1),dummies),axis=1)"
   ]
  },
  {
   "cell_type": "markdown",
   "metadata": {},
   "source": [
    "**3. Now split the dataset**"
   ]
  },
  {
   "cell_type": "code",
   "execution_count": 38,
   "metadata": {},
   "outputs": [],
   "source": [
    "X = df.drop('price_x',axis=1)\n",
    "y = df['price_x']"
   ]
  },
  {
   "cell_type": "code",
   "execution_count": 39,
   "metadata": {},
   "outputs": [],
   "source": [
    "X_train, X_test, y_train, y_test = train_test_split(X, y, test_size=0.3, random_state=42)"
   ]
  },
  {
   "cell_type": "code",
   "execution_count": 40,
   "metadata": {},
   "outputs": [
    {
     "name": "stdout",
     "output_type": "stream",
     "text": [
      "Shape of X_train is:  (654115, 391)\n",
      "Shape of X_test is:  (280335, 391)\n",
      "Shape of y_train is:  (654115,)\n",
      "Shape of y_test is:  (280335,)\n"
     ]
    }
   ],
   "source": [
    "print(\"Shape of X_train is: \",X_train.shape)\n",
    "print(\"Shape of X_test is: \",X_test.shape)\n",
    "print(\"Shape of y_train is: \",y_train.shape)\n",
    "print(\"Shape of y_test is: \",y_test.shape)"
   ]
  },
  {
   "cell_type": "markdown",
   "metadata": {},
   "source": [
    "**Lets scale our dataset as well**"
   ]
  },
  {
   "cell_type": "code",
   "execution_count": 41,
   "metadata": {},
   "outputs": [],
   "source": [
    "from sklearn.preprocessing import StandardScaler\n",
    "\n",
    "sc = StandardScaler()\n",
    "X_train_sc = sc.fit_transform(X_train)\n",
    "X_test_sc = sc.transform(X_test)"
   ]
  },
  {
   "cell_type": "markdown",
   "metadata": {},
   "source": [
    "***Since this is a supervised and an regression problem, we will be using different regression techniques like: Decision tree regressor, Ridge Regression, XGBoost regressor, random forest regressor and see which one gives us the best r2 (r-squared) value and we can use that model for to find out best features usuing feature importance***"
   ]
  },
  {
   "cell_type": "code",
   "execution_count": 43,
   "metadata": {},
   "outputs": [
    {
     "name": "stdout",
     "output_type": "stream",
     "text": [
      "r2_score for DecisionTreeRegressor is: 0.9785513034251158\n",
      "r2_score for RandomForestRegressor is: 0.9861614354737575\n",
      "r2_score for Ridge is: 0.7080358784906668\n",
      "r2_score for xgb is: 0.9441764384022868\n"
     ]
    }
   ],
   "source": [
    "for algorithm in ['DecisionTreeRegressor','RandomForestRegressor','Ridge','xgb']:\n",
    "    if algorithm == 'DecisionTreeRegressor' : model = DecisionTreeRegressor();\n",
    "    elif algorithm == 'RandomForestRegressor': model  = RandomForestRegressor();\n",
    "    elif algorithm == 'Ridge': model = Ridge();\n",
    "    elif algorithm == \"xgb\": model = xgb.XGBRegressor();\n",
    "    \n",
    "    \n",
    "    model.fit(X_train_sc, y_train)\n",
    "    pred = model.predict(X_test_sc)\n",
    "    print(f\"r2_score for {algorithm} is:\", r2_score(y_test,pred))"
   ]
  },
  {
   "cell_type": "markdown",
   "metadata": {},
   "source": [
    "**From the above we can see that Random Forest Regressor has the highest r-squared value, so we can use this model to find out the feature importance**"
   ]
  },
  {
   "cell_type": "code",
   "execution_count": 45,
   "metadata": {},
   "outputs": [
    {
     "name": "stdout",
     "output_type": "stream",
     "text": [
      "R-squared value for random forest regressor is: 0.986218325495173\n"
     ]
    }
   ],
   "source": [
    "model = RandomForestRegressor()\n",
    "model.fit(X_train_sc,y_train)\n",
    "\n",
    "preds = model.predict(X_test_sc)\n",
    "print(\"R-squared value for random forest regressor is:\", r2_score(y_test, preds))"
   ]
  },
  {
   "cell_type": "markdown",
   "metadata": {},
   "source": [
    "**Lets find out which all are the importance features using the feature importance metric**"
   ]
  },
  {
   "cell_type": "code",
   "execution_count": 77,
   "metadata": {},
   "outputs": [],
   "source": [
    "feature_imp = sorted(zip(df.columns, model.feature_importances_), key = lambda x: x[-1], reverse=True)"
   ]
  },
  {
   "cell_type": "code",
   "execution_count": 80,
   "metadata": {},
   "outputs": [],
   "source": [
    "df_new = pd.DataFrame(feature_imp, columns = ['features','scores'])"
   ]
  },
  {
   "cell_type": "code",
   "execution_count": 94,
   "metadata": {},
   "outputs": [
    {
     "data": {
      "image/png": "[encoded data removed]",
      "text/plain": [
       "<Figure size 432x288 with 1 Axes>"
      ]
     },
     "metadata": {
      "needs_background": "light"
     },
     "output_type": "display_data"
    }
   ],
   "source": [
    "x = df_new[:10]\n",
    "x.set_index('features').plot(kind='bar')\n",
    "plt.xlabel('Features')\n",
    "plt.ylabel('Scores')\n",
    "plt.title(' Feature importance calculated using Random Forest Classifier');"
   ]
  },
  {
   "cell_type": "markdown",
   "metadata": {},
   "source": [
    "**From the above we can see that some of the best features are: Bathrooms, how many person they can accomodate, beds, property type, whether the calendar is updated or not?**"
   ]
  },
  {
   "cell_type": "markdown",
   "metadata": {},
   "source": [
    "**$$Thank you!!$$**"
   ]
  },
  {
   "cell_type": "code",
   "execution_count": null,
   "metadata": {},
   "outputs": [],
   "source": []
  }
 ],
 "metadata": {
  "kernelspec": {
   "display_name": "Python 3",
   "language": "python",
   "name": "python3"
  },
  "language_info": {
   "codemirror_mode": {
    "name": "ipython",
    "version": 3
   },
   "file_extension": ".py",
   "mimetype": "text/x-python",
   "name": "python",
   "nbconvert_exporter": "python",
   "pygments_lexer": "ipython3",
   "version": "3.7.3"
  }
 },
 "nbformat": 4,
 "nbformat_minor": 2
}
